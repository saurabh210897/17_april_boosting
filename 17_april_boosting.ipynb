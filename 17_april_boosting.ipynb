{
 "cells": [
  {
   "cell_type": "code",
   "execution_count": 1,
   "id": "18a0fad0-405f-4ad6-a657-bf2adcb4fca5",
   "metadata": {},
   "outputs": [],
   "source": [
    "# Q1. What is Gradient Boosting Regression?\n",
    "\n",
    "# Q2. Implement a simple gradient boosting algorithm from scratch using Python and NumPy. Use a \n",
    "# simple regression problem as an example and train the model on a small dataset. Evaluate the model's \n",
    "# performance using metrics such as mean squared error and R-squared.\n",
    "\n",
    "# Q3. Experiment with different hyperparameters such as learning rate, number of trees, and tree depth to \n",
    "# optimise the performance of the model. Use grid search or random search to find the best \n",
    "# hyperparameters\n",
    "\n",
    "# Q4. What is a weak learner in Gradient Boosting?\n",
    "\n",
    "# Q5. What is the intuition behind the Gradient Boosting algorithm?\n",
    "\n",
    "# Q6. How does Gradient Boosting algorithm build an ensemble of weak learners?\n",
    "\n",
    "# Q7. What are the steps involved in constructing the mathematical intuition of Gradient Boosting \n",
    "# algorithm?"
   ]
  },
  {
   "cell_type": "code",
   "execution_count": 2,
   "id": "a5286d34-347f-45e0-aaf5-4df6bea04b98",
   "metadata": {},
   "outputs": [],
   "source": [
    "# Q1. What is Gradient Boosting Regression?"
   ]
  },
  {
   "cell_type": "code",
   "execution_count": 3,
   "id": "cc3d7c9f-5c1d-43be-8a01-38dc8809e392",
   "metadata": {},
   "outputs": [],
   "source": [
    "# Gradient Boosting Regression is a machine learning technique that belongs to the ensemble learning family. It is primarily used for regression tasks,\n",
    "# where the goal is to predict continuous numerical values.\n",
    "\n",
    "# The gradient boosting regression algorithm combines multiple weak prediction models, typically decision trees, to create a strong predictive model. \n",
    "# It works by iteratively building new models that predict the residuals (the differences between the actual target values\n",
    "# and the predictions of the previous models) and then adding these new models to the ensemble.\n",
    "# This process continues until a certain stopping criterion is met, such as reaching a maximum number of models or achieving a desired level of performance.\n",
    "\n",
    "# The term \"gradient\" in gradient boosting refers to the use of gradient descent optimization to minimize a loss function, such as mean squared error (MSE) \n",
    "# or mean absolute error (MAE). In each iteration, the algorithm calculates the negative gradient of the loss function with respect to the current ensemble's \n",
    "# predictions and fits a new model to this gradient. The model is then added to the ensemble, and the predictions are updated by adding the predictions of the new model.\n",
    "\n",
    "# By combining multiple weak models in a boosting manner, gradient boosting regression can effectively capture complex relationships in the data and\n",
    "# make accurate predictions. It is known for its ability to handle nonlinear relationships, handle missing values, and robustness against outliers.\n",
    "\n",
    "# Some popular implementations of gradient boosting regression include XGBoost, LightGBM, and CatBoost, which provide efficient and optimized algorithms for \n",
    "# this technique."
   ]
  },
  {
   "cell_type": "code",
   "execution_count": 4,
   "id": "94d608f8-cf17-4454-97f1-4429280aaccc",
   "metadata": {},
   "outputs": [],
   "source": [
    "# Q2. Implement a simple gradient boosting algorithm from scratch using Python and NumPy. Use a \n",
    "# simple regression problem as an example and train the model on a small dataset. Evaluate the model's \n",
    "# performance using metrics such as mean squared error and R-squared."
   ]
  },
  {
   "cell_type": "code",
   "execution_count": 15,
   "id": "a685430b-68c0-4486-a851-2a90718841fb",
   "metadata": {},
   "outputs": [],
   "source": [
    "import numpy as np\n",
    "from sklearn.datasets import make_regression\n",
    "from sklearn.metrics import mean_squared_error, r2_score"
   ]
  },
  {
   "cell_type": "code",
   "execution_count": 16,
   "id": "8e5b18e4-1160-4f1f-81c6-6716a4f99089",
   "metadata": {},
   "outputs": [],
   "source": [
    "X, y = make_regression(n_samples=100, n_features=1, noise=10, random_state=42)"
   ]
  },
  {
   "cell_type": "code",
   "execution_count": 17,
   "id": "c6510271-d009-41f8-8c01-5d9383935861",
   "metadata": {},
   "outputs": [],
   "source": [
    "## Now, let's define the GradientBoostingRegressor class:\n",
    "\n",
    "class GradientBoostingRegressor:\n",
    "    def __init__(self, n_estimators=100, learning_rate=0.1, max_depth=3):\n",
    "        self.n_estimators = n_estimators\n",
    "        self.learning_rate = learning_rate\n",
    "        self.max_depth = max_depth\n",
    "        self.estimators = []\n",
    "        self.intercept = 0\n",
    "\n",
    "    def fit(self, X, y):\n",
    "        # Initialize predictions with the mean of target values\n",
    "        self.intercept = np.mean(y)\n",
    "        predictions = np.full_like(y, self.intercept)\n",
    "\n",
    "        # Fit the estimators iteratively\n",
    "        for _ in range(self.n_estimators):\n",
    "            residuals = y - predictions\n",
    "\n",
    "            # Create a decision tree estimator\n",
    "            estimator = DecisionTreeRegressor(max_depth=self.max_depth)\n",
    "            estimator.fit(X, residuals)\n",
    "\n",
    "            # Update predictions using the learning rate\n",
    "            predictions += self.learning_rate * estimator.predict(X)\n",
    "            self.estimators.append(estimator)\n",
    "\n",
    "    def predict(self, X):\n",
    "        # Make predictions by summing the predictions of all estimators\n",
    "        predictions = np.full(len(X), self.intercept)\n",
    "        for estimator in self.estimators:\n",
    "            predictions += self.learning_rate * estimator.predict(X)\n",
    "        return predictions"
   ]
  },
  {
   "cell_type": "code",
   "execution_count": 18,
   "id": "09008c3d-d179-46b8-82e8-cba94df70abe",
   "metadata": {},
   "outputs": [
    {
     "name": "stdout",
     "output_type": "stream",
     "text": [
      "Mean Squared Error: 16.40773788003763\n",
      "R-squared: 0.9902936322260962\n"
     ]
    }
   ],
   "source": [
    "## Now, let's train the gradient boosting model on our dataset and evaluate its performance:\n",
    "\n",
    "# Initialize and fit the gradient boosting model\n",
    "gb_model = GradientBoostingRegressor(n_estimators=100, learning_rate=0.1, max_depth=3)\n",
    "gb_model.fit(X, y)\n",
    "\n",
    "# Make predictions\n",
    "y_pred = gb_model.predict(X)\n",
    "\n",
    "# Calculate mean squared error and R-squared\n",
    "mse = mean_squared_error(y, y_pred)\n",
    "r2 = r2_score(y, y_pred)\n",
    "\n",
    "print(\"Mean Squared Error:\", mse)\n",
    "print(\"R-squared:\", r2)"
   ]
  },
  {
   "cell_type": "code",
   "execution_count": 20,
   "id": "84ba30ba-071e-4b26-a521-5ec917cd6104",
   "metadata": {},
   "outputs": [],
   "source": [
    "# Q3. Experiment with different hyperparameters such as learning rate, number of trees, and tree depth to \n",
    "# optimise the performance of the model. Use grid search or random search to find the best \n",
    "# hyperparameters."
   ]
  },
  {
   "cell_type": "code",
   "execution_count": 21,
   "id": "03a543ea-07d2-4e01-b5b1-fc1bcab85cd9",
   "metadata": {},
   "outputs": [],
   "source": [
    "import numpy as np\n",
    "from sklearn.datasets import make_regression\n",
    "from sklearn.model_selection import GridSearchCV\n",
    "from sklearn.metrics import mean_squared_error, r2_score\n",
    "from sklearn.ensemble import GradientBoostingRegressor"
   ]
  },
  {
   "cell_type": "code",
   "execution_count": 22,
   "id": "c432621a-90d7-4a94-8817-0ade22da5403",
   "metadata": {},
   "outputs": [],
   "source": [
    "## Next, let's generate a small dataset for regression using the make_regression function from scikit-learn:\n",
    "\n",
    "X, y = make_regression(n_samples=100, n_features=1, noise=10, random_state=42)"
   ]
  },
  {
   "cell_type": "code",
   "execution_count": 30,
   "id": "8b8f49c1-6357-41ad-8603-e097561fbe11",
   "metadata": {},
   "outputs": [],
   "source": [
    "from sklearn.model_selection import train_test_split\n",
    "X_train, X_test, y_train, y_test = train_test_split(\n",
    "    X, y, test_size=0.33, random_state=42)"
   ]
  },
  {
   "cell_type": "code",
   "execution_count": 23,
   "id": "ecf254b3-71a4-4da2-a7b2-623434ee6db7",
   "metadata": {},
   "outputs": [],
   "source": [
    "## Now, let's define the parameter grid for the grid search:\n",
    "\n",
    "param_grid = {\n",
    "    'n_estimators': [50, 100, 150],\n",
    "    'learning_rate': [0.1, 0.01, 0.001],\n",
    "    'max_depth': [3, 5, 7]\n",
    "}"
   ]
  },
  {
   "cell_type": "code",
   "execution_count": 24,
   "id": "468f29fe-593f-48cc-ac1a-85c5c9603776",
   "metadata": {},
   "outputs": [],
   "source": [
    "# Initialize the gradient boosting regressor\n",
    "gb_model = GradientBoostingRegressor()"
   ]
  },
  {
   "cell_type": "code",
   "execution_count": 25,
   "id": "86374ff1-b2f9-4776-a377-b65e03ebdbd9",
   "metadata": {},
   "outputs": [
    {
     "data": {
      "text/html": [
       "<style>#sk-container-id-1 {color: black;background-color: white;}#sk-container-id-1 pre{padding: 0;}#sk-container-id-1 div.sk-toggleable {background-color: white;}#sk-container-id-1 label.sk-toggleable__label {cursor: pointer;display: block;width: 100%;margin-bottom: 0;padding: 0.3em;box-sizing: border-box;text-align: center;}#sk-container-id-1 label.sk-toggleable__label-arrow:before {content: \"▸\";float: left;margin-right: 0.25em;color: #696969;}#sk-container-id-1 label.sk-toggleable__label-arrow:hover:before {color: black;}#sk-container-id-1 div.sk-estimator:hover label.sk-toggleable__label-arrow:before {color: black;}#sk-container-id-1 div.sk-toggleable__content {max-height: 0;max-width: 0;overflow: hidden;text-align: left;background-color: #f0f8ff;}#sk-container-id-1 div.sk-toggleable__content pre {margin: 0.2em;color: black;border-radius: 0.25em;background-color: #f0f8ff;}#sk-container-id-1 input.sk-toggleable__control:checked~div.sk-toggleable__content {max-height: 200px;max-width: 100%;overflow: auto;}#sk-container-id-1 input.sk-toggleable__control:checked~label.sk-toggleable__label-arrow:before {content: \"▾\";}#sk-container-id-1 div.sk-estimator input.sk-toggleable__control:checked~label.sk-toggleable__label {background-color: #d4ebff;}#sk-container-id-1 div.sk-label input.sk-toggleable__control:checked~label.sk-toggleable__label {background-color: #d4ebff;}#sk-container-id-1 input.sk-hidden--visually {border: 0;clip: rect(1px 1px 1px 1px);clip: rect(1px, 1px, 1px, 1px);height: 1px;margin: -1px;overflow: hidden;padding: 0;position: absolute;width: 1px;}#sk-container-id-1 div.sk-estimator {font-family: monospace;background-color: #f0f8ff;border: 1px dotted black;border-radius: 0.25em;box-sizing: border-box;margin-bottom: 0.5em;}#sk-container-id-1 div.sk-estimator:hover {background-color: #d4ebff;}#sk-container-id-1 div.sk-parallel-item::after {content: \"\";width: 100%;border-bottom: 1px solid gray;flex-grow: 1;}#sk-container-id-1 div.sk-label:hover label.sk-toggleable__label {background-color: #d4ebff;}#sk-container-id-1 div.sk-serial::before {content: \"\";position: absolute;border-left: 1px solid gray;box-sizing: border-box;top: 0;bottom: 0;left: 50%;z-index: 0;}#sk-container-id-1 div.sk-serial {display: flex;flex-direction: column;align-items: center;background-color: white;padding-right: 0.2em;padding-left: 0.2em;position: relative;}#sk-container-id-1 div.sk-item {position: relative;z-index: 1;}#sk-container-id-1 div.sk-parallel {display: flex;align-items: stretch;justify-content: center;background-color: white;position: relative;}#sk-container-id-1 div.sk-item::before, #sk-container-id-1 div.sk-parallel-item::before {content: \"\";position: absolute;border-left: 1px solid gray;box-sizing: border-box;top: 0;bottom: 0;left: 50%;z-index: -1;}#sk-container-id-1 div.sk-parallel-item {display: flex;flex-direction: column;z-index: 1;position: relative;background-color: white;}#sk-container-id-1 div.sk-parallel-item:first-child::after {align-self: flex-end;width: 50%;}#sk-container-id-1 div.sk-parallel-item:last-child::after {align-self: flex-start;width: 50%;}#sk-container-id-1 div.sk-parallel-item:only-child::after {width: 0;}#sk-container-id-1 div.sk-dashed-wrapped {border: 1px dashed gray;margin: 0 0.4em 0.5em 0.4em;box-sizing: border-box;padding-bottom: 0.4em;background-color: white;}#sk-container-id-1 div.sk-label label {font-family: monospace;font-weight: bold;display: inline-block;line-height: 1.2em;}#sk-container-id-1 div.sk-label-container {text-align: center;}#sk-container-id-1 div.sk-container {/* jupyter's `normalize.less` sets `[hidden] { display: none; }` but bootstrap.min.css set `[hidden] { display: none !important; }` so we also need the `!important` here to be able to override the default hidden behavior on the sphinx rendered scikit-learn.org. See: https://github.com/scikit-learn/scikit-learn/issues/21755 */display: inline-block !important;position: relative;}#sk-container-id-1 div.sk-text-repr-fallback {display: none;}</style><div id=\"sk-container-id-1\" class=\"sk-top-container\"><div class=\"sk-text-repr-fallback\"><pre>GridSearchCV(cv=3, estimator=GradientBoostingRegressor(),\n",
       "             param_grid={&#x27;learning_rate&#x27;: [0.1, 0.01, 0.001],\n",
       "                         &#x27;max_depth&#x27;: [3, 5, 7],\n",
       "                         &#x27;n_estimators&#x27;: [50, 100, 150]},\n",
       "             scoring=&#x27;neg_mean_squared_error&#x27;)</pre><b>In a Jupyter environment, please rerun this cell to show the HTML representation or trust the notebook. <br />On GitHub, the HTML representation is unable to render, please try loading this page with nbviewer.org.</b></div><div class=\"sk-container\" hidden><div class=\"sk-item sk-dashed-wrapped\"><div class=\"sk-label-container\"><div class=\"sk-label sk-toggleable\"><input class=\"sk-toggleable__control sk-hidden--visually\" id=\"sk-estimator-id-1\" type=\"checkbox\" ><label for=\"sk-estimator-id-1\" class=\"sk-toggleable__label sk-toggleable__label-arrow\">GridSearchCV</label><div class=\"sk-toggleable__content\"><pre>GridSearchCV(cv=3, estimator=GradientBoostingRegressor(),\n",
       "             param_grid={&#x27;learning_rate&#x27;: [0.1, 0.01, 0.001],\n",
       "                         &#x27;max_depth&#x27;: [3, 5, 7],\n",
       "                         &#x27;n_estimators&#x27;: [50, 100, 150]},\n",
       "             scoring=&#x27;neg_mean_squared_error&#x27;)</pre></div></div></div><div class=\"sk-parallel\"><div class=\"sk-parallel-item\"><div class=\"sk-item\"><div class=\"sk-label-container\"><div class=\"sk-label sk-toggleable\"><input class=\"sk-toggleable__control sk-hidden--visually\" id=\"sk-estimator-id-2\" type=\"checkbox\" ><label for=\"sk-estimator-id-2\" class=\"sk-toggleable__label sk-toggleable__label-arrow\">estimator: GradientBoostingRegressor</label><div class=\"sk-toggleable__content\"><pre>GradientBoostingRegressor()</pre></div></div></div><div class=\"sk-serial\"><div class=\"sk-item\"><div class=\"sk-estimator sk-toggleable\"><input class=\"sk-toggleable__control sk-hidden--visually\" id=\"sk-estimator-id-3\" type=\"checkbox\" ><label for=\"sk-estimator-id-3\" class=\"sk-toggleable__label sk-toggleable__label-arrow\">GradientBoostingRegressor</label><div class=\"sk-toggleable__content\"><pre>GradientBoostingRegressor()</pre></div></div></div></div></div></div></div></div></div></div>"
      ],
      "text/plain": [
       "GridSearchCV(cv=3, estimator=GradientBoostingRegressor(),\n",
       "             param_grid={'learning_rate': [0.1, 0.01, 0.001],\n",
       "                         'max_depth': [3, 5, 7],\n",
       "                         'n_estimators': [50, 100, 150]},\n",
       "             scoring='neg_mean_squared_error')"
      ]
     },
     "execution_count": 25,
     "metadata": {},
     "output_type": "execute_result"
    }
   ],
   "source": [
    "# Perform grid search\n",
    "grid_search = GridSearchCV(gb_model, param_grid, cv=3, scoring='neg_mean_squared_error')\n",
    "grid_search.fit(X, y)"
   ]
  },
  {
   "cell_type": "code",
   "execution_count": 26,
   "id": "ef536348-2a9f-4fbd-975c-7b09bf1a5186",
   "metadata": {},
   "outputs": [],
   "source": [
    "# Get the best hyperparameters and the best model\n",
    "best_params = grid_search.best_params_\n",
    "best_model = grid_search.best_estimator_"
   ]
  },
  {
   "cell_type": "code",
   "execution_count": 27,
   "id": "e73b3600-d764-47d2-ab86-756f2c4b5752",
   "metadata": {},
   "outputs": [],
   "source": [
    "# Make predictions using the best model\n",
    "y_pred = best_model.predict(X)"
   ]
  },
  {
   "cell_type": "code",
   "execution_count": 28,
   "id": "e99f4314-eb26-44f8-b609-e48ea7484a12",
   "metadata": {},
   "outputs": [],
   "source": [
    "# Calculate mean squared error and R-squared\n",
    "mse = mean_squared_error(y, y_pred)\n",
    "r2 = r2_score(y, y_pred)"
   ]
  },
  {
   "cell_type": "code",
   "execution_count": 29,
   "id": "ca40f8bc-4ade-45c9-8abb-c6a73f339a7c",
   "metadata": {},
   "outputs": [
    {
     "name": "stdout",
     "output_type": "stream",
     "text": [
      "Best Hyperparameters: {'learning_rate': 0.1, 'max_depth': 3, 'n_estimators': 50}\n",
      "Mean Squared Error: 30.05777906334249\n",
      "R-squared: 0.9822186421925655\n"
     ]
    }
   ],
   "source": [
    "print(\"Best Hyperparameters:\", best_params)\n",
    "print(\"Mean Squared Error:\", mse)\n",
    "print(\"R-squared:\", r2)"
   ]
  },
  {
   "cell_type": "code",
   "execution_count": 1,
   "id": "0f98b645-83b0-4989-bd68-a37996aa817d",
   "metadata": {},
   "outputs": [],
   "source": [
    "# Q4. What is a weak learner in Gradient Boosting?"
   ]
  },
  {
   "cell_type": "code",
   "execution_count": 2,
   "id": "cf2f8f68-95b6-455d-b3f9-aa1b9849b04e",
   "metadata": {},
   "outputs": [],
   "source": [
    "# In gradient boosting, a weak learner refers to a simple or base model that is used as a building block in the ensemble. \n",
    "# It is a model that is only slightly better than random guessing. The concept of a weak learner is integral to\n",
    "# gradient boosting algorithms, such as AdaBoost and XGBoost.\n",
    "\n",
    "# The weak learner is typically a decision tree with a small number of levels, known as a decision stump, \n",
    "# but it can also be any other simple model, such as a linear regression model. \n",
    "# The key characteristic of a weak learner is its simplicity and low complexity.\n",
    "\n",
    "# In the context of gradient boosting, the weak learner is trained sequentially in an iterative manner. \n",
    "# In each iteration, the weak learner is trained to correct the mistakes made by the ensemble of models \n",
    "# built in previous iterations. The weak learner's primary purpose is to capture the patterns or relationships \n",
    "# that the previous models could not capture adequately.\n",
    "\n",
    "# Once a weak learner is trained, it is added to the ensemble and assigned a weight that indicates its contribution to \n",
    "# the final prediction. Subsequent weak learners are then trained to further improve the ensemble's performance \n",
    "# by focusing on the remaining errors or residuals.\n",
    "\n",
    "# By combining a series of weak learners in a boosting fashion, where each learner is trained to compensate for \n",
    "# the mistakes of the previous ones, gradient boosting can create a strong predictive model with high accuracy."
   ]
  },
  {
   "cell_type": "code",
   "execution_count": 3,
   "id": "da7aa8aa-f2de-4638-83a9-3d880ae55f82",
   "metadata": {},
   "outputs": [],
   "source": [
    "# Q5. What is the intuition behind the Gradient Boosting algorithm?"
   ]
  },
  {
   "cell_type": "code",
   "execution_count": 4,
   "id": "8ae5f5c1-d7cb-432d-8a87-431ecb8d44da",
   "metadata": {},
   "outputs": [],
   "source": [
    "# The intuition behind the Gradient Boosting algorithm can be understood by breaking it down into two key components: gradient descent and boosting.\n",
    "\n",
    "# Gradient Descent:\n",
    "\n",
    "# Gradient descent is an optimization algorithm that aims to minimize a loss function. \n",
    "# It iteratively adjusts the model parameters in the direction of steepest descent of the loss function.\n",
    "# In the context of Gradient Boosting, the loss function represents the error between the actual and predicted values of the target variable.\n",
    "# Initially, a weak learner is fit to the data and its predictions are computed.\n",
    "# The algorithm calculates the gradients (derivatives) of the loss function with respect to the predictions. \n",
    "# These gradients indicate the direction and magnitude of improvement needed to reduce the loss.\n",
    "# The weak learner is then trained to approximate the negative gradient, meaning it tries to correct the mistakes made by \n",
    "# the previous model by minimizing the loss in the direction of improvement.\n",
    "# The predictions of the weak learner are added to the ensemble, contributing to the overall prediction.\n",
    "\n",
    "# Boosting:\n",
    "\n",
    "# Boosting is an ensemble learning technique that combines multiple weak learners to create a strong learner.\n",
    "# In Gradient Boosting, the weak learners are trained sequentially, each one focusing on the errors made by the previous learners.\n",
    "# After the initial weak learner is trained, subsequent learners are trained to predict the residuals (the differences between the actual and predicted values) of \n",
    "# the previous model.\n",
    "# Each weak learner is assigned a weight that determines its contribution to the final prediction.\n",
    "# The weights are typically determined through a learning rate, which controls the step size of each iteration.\n",
    "# The final prediction of the ensemble model is the sum of the predictions of all the weak learners, weighted by their respective weights.\n",
    "# The process continues until a stopping criterion is met, such as a predefined number of iterations or the attainment of satisfactory performance.\n",
    "\n",
    "# In summary, the intuition behind Gradient Boosting is to iteratively train weak learners that can correct the mistakes made by the previous models. \n",
    "# By using gradient descent to optimize the loss function and boosting to combine the weak learners, the algorithm gradually improves the ensemble's predictive power,\n",
    "# ultimately creating a strong and accurate model."
   ]
  },
  {
   "cell_type": "code",
   "execution_count": 5,
   "id": "567ea955-c0bc-4d48-93bc-bb2d61ef2ead",
   "metadata": {},
   "outputs": [],
   "source": [
    "# Q6. How does Gradient Boosting algorithm build an ensemble of weak learners?"
   ]
  },
  {
   "cell_type": "code",
   "execution_count": 6,
   "id": "64c204a3-8d26-4406-80f0-8c5f371cfe67",
   "metadata": {},
   "outputs": [],
   "source": [
    "# The Gradient Boosting algorithm builds an ensemble of weak learners in a sequential manner. Here's a step-by-step explanation of how the ensemble is constructed:\n",
    "\n",
    "# Initialize the ensemble:\n",
    "\n",
    "# Initially, the ensemble is empty. No weak learners are present.\n",
    "# Fit the first weak learner:\n",
    "\n",
    "# The first weak learner, often a decision tree with a small number of levels (decision stump), is fitted to the training data.\n",
    "# It makes predictions on the training examples.\n",
    "# Calculate the residuals:\n",
    "\n",
    "# The difference between the actual target values and the predictions of the first weak learner are calculated. These differences are known as residuals or errors.\n",
    "# Residuals represent the part of the target variable that is not explained by the first weak learner.\n",
    "# Fit subsequent weak learners:\n",
    "\n",
    "# The subsequent weak learners are trained to predict the residuals of the ensemble built so far.\n",
    "# Each weak learner is fitted to the training data, but instead of using the original target variable, the focus is on predicting the residuals.\n",
    "# The weak learner tries to capture the patterns or relationships in the residuals that the previous models could not capture effectively.\n",
    "# Update the ensemble:\n",
    "\n",
    "# The predictions of each weak learner are added to the ensemble.\n",
    "# Each weak learner is assigned a weight that determines its contribution to the final prediction.\n",
    "# The weights are typically determined by a learning rate, which controls the step size of each iteration. \n",
    "# A smaller learning rate results in slower convergence but can improve the overall performance.\n",
    "# Iterate until convergence or a stopping criterion:\n",
    "\n",
    "# Steps 3 to 5 are repeated iteratively until a stopping criterion is met.\n",
    "# The stopping criterion can be a maximum number of iterations, achieving satisfactory performance, or other predefined conditions.\n",
    "# Final prediction:\n",
    "\n",
    "# The final prediction of the Gradient Boosting ensemble is the sum of the predictions of all the weak learners, weighted by their respective weights.\n",
    "# The ensemble of weak learners works together to produce a more accurate and robust prediction than any individual weak learner.\n",
    "# By training weak learners sequentially and focusing on the residuals of the previous models, Gradient Boosting gradually improves the ensemble's predictive power,\n",
    "# leading to a strong and accurate model."
   ]
  },
  {
   "cell_type": "code",
   "execution_count": 7,
   "id": "1eb7d70f-8a80-4ec1-861a-85dd0d2af909",
   "metadata": {},
   "outputs": [],
   "source": [
    "# Q7. What are the steps involved in constructing the mathematical intuition of Gradient Boosting \n",
    "# algorithm?"
   ]
  },
  {
   "cell_type": "code",
   "execution_count": 8,
   "id": "6b7c763c-fce6-4ccd-aa97-f25d48afa66f",
   "metadata": {},
   "outputs": [],
   "source": [
    "# Constructing the mathematical intuition of the Gradient Boosting algorithm involves several steps. Here is a breakdown of the key steps involved:\n",
    "\n",
    "# Define the loss function:\n",
    "\n",
    "# Start by defining a differentiable loss function that measures the error between the predicted and actual values.\n",
    "# Commonly used loss functions include mean squared error (MSE) for regression problems and log loss (binary cross-entropy) for classification problems.\n",
    "# Initialize the ensemble:\n",
    "\n",
    "# Initialize the ensemble as an empty model or with a constant value, representing the initial prediction.\n",
    "# For regression, the initial prediction can be the mean or median of the target variable. For classification, it can be the logarithm of class probabilities.\n",
    "# Compute the negative gradient:\n",
    "\n",
    "# Calculate the negative gradient of the loss function with respect to the current predictions.\n",
    "# The negative gradient represents the direction and magnitude of the error, indicating how much the predictions need to be adjusted to reduce the loss.\n",
    "# Fit a weak learner:\n",
    "\n",
    "# Fit a weak learner, typically a decision tree with a shallow depth or a decision stump, to the negative gradient values.\n",
    "# The weak learner aims to approximate the negative gradient and minimize the loss function by finding the best split points based on the input features.\n",
    "# Update the ensemble:\n",
    "\n",
    "# Add the predictions of the weak learner to the ensemble.\n",
    "# Determine the weight or contribution of the weak learner in the ensemble by multiplying it with a learning rate, which controls the step size of each iteration.\n",
    "# The learning rate is a hyperparameter that balances the contribution of each weak learner and helps prevent overfitting.\n",
    "# Update the predictions:\n",
    "\n",
    "# Update the predictions of the ensemble by adding the weighted predictions of the weak learner.\n",
    "# The updated predictions are used in the next iteration to calculate the negative gradient and train the subsequent weak learner.\n",
    "# Iterate until convergence or a stopping criterion:\n",
    "\n",
    "# Repeat steps 3 to 6 iteratively until a stopping criterion is met.\n",
    "# The stopping criterion can be a maximum number of iterations, achieving satisfactory performance, or other predefined conditions.\n",
    "# Final prediction:\n",
    "\n",
    "# The final prediction is obtained by summing the predictions of all the weak learners in the ensemble, weighted by their respective weights.\n",
    "# By iteratively fitting weak learners to the negative gradients and updating the ensemble's predictions,\n",
    "# the Gradient Boosting algorithm minimizes the loss function and constructs a powerful model that captures complex relationships in the data."
   ]
  },
  {
   "cell_type": "code",
   "execution_count": null,
   "id": "a364da5d-3606-4b3e-8edc-08c4b1b18e49",
   "metadata": {},
   "outputs": [],
   "source": []
  }
 ],
 "metadata": {
  "kernelspec": {
   "display_name": "Python 3 (ipykernel)",
   "language": "python",
   "name": "python3"
  },
  "language_info": {
   "codemirror_mode": {
    "name": "ipython",
    "version": 3
   },
   "file_extension": ".py",
   "mimetype": "text/x-python",
   "name": "python",
   "nbconvert_exporter": "python",
   "pygments_lexer": "ipython3",
   "version": "3.10.8"
  }
 },
 "nbformat": 4,
 "nbformat_minor": 5
}
